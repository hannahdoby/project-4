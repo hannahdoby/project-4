{
 "cells": [
  {
   "cell_type": "code",
   "execution_count": 64,
   "metadata": {},
   "outputs": [],
   "source": [
    "import joblib\n",
    "import pandas as pd"
   ]
  },
  {
   "cell_type": "code",
   "execution_count": 65,
   "metadata": {},
   "outputs": [],
   "source": [
    "inputs1 = {'Action':2, 'Adventure':5,\n",
    "       'Animation':2, 'Comedy':3, 'Crime':4, 'Documentary':4, 'Drama':4,\n",
    "       'Fantasy':1, 'Film-Noir':1, 'Horror':2, 'Musical':0, 'Mystery':5, 'Romance':4,\n",
    "       'Sci-Fi':2, 'Thriller':1, 'War':5, 'Western':5, '(no genres listed)':1}"
   ]
  },
  {
   "cell_type": "code",
   "execution_count": 66,
   "metadata": {},
   "outputs": [],
   "source": [
    "inputs2 = {'Action':5/19, 'Adventure':5/19, 'Animation':5/19, 'Comedy':5/19, 'Crime':5/19,\n",
    "       'Documentary':5/19, 'Drama':5/19, 'Fantasy':5/19, 'Film-Noir':5/19, 'Horror':5/19,\n",
    "       'Musical':5/19, 'Mystery':5/19, 'Romance':5/19, 'Sci-Fi':5/19, 'Thriller':5/19,\n",
    "       'War':5/19, 'Western':5/19, '(no genres listed)':5/19}\n"
   ]
  },
  {
   "cell_type": "code",
   "execution_count": 67,
   "metadata": {},
   "outputs": [],
   "source": [
    "#Load both models and have them make predictions\n",
    "model1 = joblib.load(\"Models/weights_model.pkl\")\n",
    "model2 = joblib.load(\"Models/counts_model.pkl\")\n",
    "\n",
    "prediction1 = model1.predict(pd.DataFrame(inputs1, index = [0]))\n",
    "prediction2 = model2.predict(pd.DataFrame(inputs2, index = [0]))"
   ]
  },
  {
   "cell_type": "code",
   "execution_count": 68,
   "metadata": {},
   "outputs": [],
   "source": [
    "#This combines the predictions to make an overall cluster\n",
    "cluster = int(str(prediction1[0])+str(prediction2[0]))"
   ]
  },
  {
   "cell_type": "code",
   "execution_count": 69,
   "metadata": {},
   "outputs": [],
   "source": [
    "#Read in the csvs\n",
    "movie_df = pd.read_csv(\"Resources/movies.csv\")\n",
    "genre_df = pd.read_csv(\"Resources/movies_modified.csv\")\n",
    "df = pd.read_csv(\"Resources/average_ratings.csv\")\n",
    "\n",
    "#Retrieve the movieId\n",
    "movie_id = movie_df.loc[movie_df[\"title\"]==\"Jumanji (1995)\"].values[0][0]\n",
    "\n",
    "#Retrieve the genres\n",
    "genre_list = genre_df.loc[genre_df[\"movieId\"]==movie_id].values[0][2:]"
   ]
  },
  {
   "cell_type": "code",
   "execution_count": 72,
   "metadata": {},
   "outputs": [],
   "source": [
    "#Collect average ratings by genre per cluster\n",
    "means = df.loc[df[\"clusters\"]==cluster].groupby(\"clusters\").mean()\n",
    "\n",
    "#Calculate the average rating for the input movie\n",
    "means = means.values[0][2:]"
   ]
  },
  {
   "cell_type": "code",
   "execution_count": 73,
   "metadata": {},
   "outputs": [
    {
     "data": {
      "text/plain": [
       "3.399744938867666"
      ]
     },
     "execution_count": 73,
     "metadata": {},
     "output_type": "execute_result"
    }
   ],
   "source": [
    "#Find the average rating by the cluster of a movie with each of these genres\n",
    "weights_list = []\n",
    "for i in range(len(genre_list)):\n",
    "    weights_list.append(means[i]*genre_list[i])\n",
    "output_average = sum(weights_list)/sum(genre_list)\n",
    "\n",
    "#This is our output guess at how they would rate the movie\n",
    "output_average"
   ]
  }
 ],
 "metadata": {
  "kernelspec": {
   "display_name": "dev",
   "language": "python",
   "name": "python3"
  },
  "language_info": {
   "codemirror_mode": {
    "name": "ipython",
    "version": 3
   },
   "file_extension": ".py",
   "mimetype": "text/x-python",
   "name": "python",
   "nbconvert_exporter": "python",
   "pygments_lexer": "ipython3",
   "version": "3.11.5"
  }
 },
 "nbformat": 4,
 "nbformat_minor": 2
}
