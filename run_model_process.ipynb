{
 "cells": [
  {
   "cell_type": "code",
   "execution_count": 2,
   "metadata": {},
   "outputs": [],
   "source": [
    "import joblib\n",
    "import pandas as pd"
   ]
  },
  {
   "cell_type": "markdown",
   "metadata": {},
   "source": [
    "# Setup"
   ]
  },
  {
   "cell_type": "code",
   "execution_count": 21,
   "metadata": {},
   "outputs": [],
   "source": [
    "#The next two cells are hard-coded inputs for testing purposes.\n",
    "\n",
    "inputs1 = {'Action':4.125, 'Adventure':3.727,\n",
    "       'Animation':4, 'Children':3.83, 'Comedy':3.869, 'Crime':4.0625, 'Documentary':2, 'Drama':3.867,\n",
    "       'Fantasy':3.6, 'Film-Noir':3.5, 'Horror':3.5, 'Musical':3.7, 'Mystery':3.5, 'Romance':4.16,\n",
    "       'Sci-Fi':3.7, 'Thriller':4.3, 'War':3.9, 'Western':2.5, '(no genres listed)':0}\n",
    "sum_data = []\n",
    "count = 0\n",
    "for i in inputs1:\n",
    "    if inputs1[i] != 0:\n",
    "        count += 1\n",
    "        sum_data.append(inputs1[i])\n",
    "user_mean = sum(sum_data)/count\n",
    "\n",
    "for key in inputs1:\n",
    "    inputs1[key] = (inputs1[key]-user_mean)/user_mean"
   ]
  },
  {
   "cell_type": "code",
   "execution_count": 22,
   "metadata": {},
   "outputs": [],
   "source": [
    "inputs2 = {'Action':0.313, 'Adventure':0.255, 'Animation':0.068, 'Children':0.896, 'Comedy':0.347, 'Crime':0.179,\n",
    "       'Documentary':0.008, 'Drama':0.442, 'Fantasy':0.115, 'Film-Noir':0.008, 'Horror':0.062,\n",
    "       'Musical':0.039, 'Mystery':0.079, 'Romance':0.188, 'Sci-Fi':0.179, 'Thriller':0.280,\n",
    "       'War':0.056, 'Western':0.019, '(no genres listed)':0.000}\n"
   ]
  },
  {
   "cell_type": "code",
   "execution_count": 23,
   "metadata": {},
   "outputs": [],
   "source": [
    "movie_input = 'Pulp Fiction (1994)'"
   ]
  },
  {
   "cell_type": "markdown",
   "metadata": {},
   "source": [
    "# Model Application"
   ]
  },
  {
   "cell_type": "code",
   "execution_count": 24,
   "metadata": {},
   "outputs": [],
   "source": [
    "#Load both models and have them make predictions\n",
    "model1 = joblib.load(\"Models/weights_model.pkl\")\n",
    "model2 = joblib.load(\"Models/counts_model.pkl\")\n",
    "\n",
    "prediction1 = model1.predict(pd.DataFrame(inputs1, index = [0]))\n",
    "prediction2 = model2.predict(pd.DataFrame(inputs2, index = [0]))"
   ]
  },
  {
   "cell_type": "code",
   "execution_count": 25,
   "metadata": {},
   "outputs": [],
   "source": [
    "#This combines the predictions to make an overall cluster\n",
    "cluster = int(str(prediction1[0])+str(prediction2[0]))"
   ]
  },
  {
   "cell_type": "code",
   "execution_count": 26,
   "metadata": {},
   "outputs": [],
   "source": [
    "#Read in the csvs\n",
    "movie_df = pd.read_csv(\"Resources/movies.csv\")\n",
    "genre_df = pd.read_csv(\"Resources/movies_modified.csv\")\n",
    "df = pd.read_csv(\"Resources/average_ratings.csv\")\n",
    "counts_df = pd.read_csv(\"Resources/ratings_counts.csv\")\n",
    "\n",
    "#Retrieve the movieId\n",
    "movie_id = movie_df.loc[movie_df[\"title\"]==movie_input].values[0][0]\n",
    "\n",
    "#Retrieve the genres\n",
    "genre_list = genre_df.loc[genre_df[\"movieId\"]==movie_id].values[0][2:]"
   ]
  },
  {
   "cell_type": "code",
   "execution_count": 27,
   "metadata": {},
   "outputs": [],
   "source": [
    "#Collect average ratings by genre per cluster\n",
    "means = df.loc[df[\"clusters\"]==cluster].groupby(\"clusters\").mean()\n",
    "pre_weights = counts_df.loc[counts_df[\"clusters\"]==cluster].groupby(\"clusters\").mean()\n",
    "\n",
    "#Calculate the average rating for the input movie\n",
    "means = means.values[0][1:]\n",
    "pre_weights = pre_weights.values[0][1:]\n"
   ]
  },
  {
   "cell_type": "code",
   "execution_count": 28,
   "metadata": {},
   "outputs": [
    {
     "name": "stdout",
     "output_type": "stream",
     "text": [
      "Pulp Fiction (1994) is a 74% match for you.\n"
     ]
    }
   ],
   "source": [
    "weights_list = []\n",
    "for i in range(len(genre_list)):\n",
    "    weights_list.append(means[i]*genre_list[i])\n",
    "output_average = sum(weights_list)/sum(genre_list)*user_mean+user_mean\n",
    "\n",
    "#This is our output guess at the odds that the user would like this movie taking into account how this specific user tends to rate\n",
    "output_percent = round(output_average/5*100)\n",
    "print(movie_input +\" is a \"+str(round(output_average/5*100))+\"% match for you.\")"
   ]
  },
  {
   "cell_type": "markdown",
   "metadata": {},
   "source": [
    "# Movie Recommendation Attempt 1 (Less Accurate)"
   ]
  },
  {
   "cell_type": "code",
   "execution_count": 29,
   "metadata": {},
   "outputs": [],
   "source": [
    "#Alternative movie recommendation code: Based on best-rated categories of each cluster\n",
    "genre_columns = ['Action', 'Adventure',\n",
    "       'Animation', 'Children','Comedy', 'Crime', 'Documentary', 'Drama',\n",
    "       'Fantasy', 'Film-Noir', 'Horror', 'Musical', 'Mystery', 'Romance',\n",
    "       'Sci-Fi', 'Thriller', 'War', 'Western', '(no genres listed)']\n",
    "\n",
    "sums = []\n",
    "counts = []\n",
    "averages =[]\n",
    "\n",
    "for index, row in genre_df.iterrows():\n",
    "    counts.append(sum(row.values[2:]))\n",
    "\n",
    "for genre in genre_columns:\n",
    "    genre_df[genre] = genre_df[genre]*means[genre_columns.index(genre)]*pre_weights[genre_columns.index(genre)]\n",
    "\n",
    "for index, row in genre_df.iterrows():\n",
    "    sums.append(sum(row.values[2:]))\n",
    "\n",
    "for i in range(len(sums)):\n",
    "    if counts[i] != 0:\n",
    "        averages.append(sums[i]/counts[i])\n",
    "    else:\n",
    "        averages.append(0)\n",
    "\n",
    "genre_df[\"predicted_average\"] = averages"
   ]
  },
  {
   "cell_type": "code",
   "execution_count": 30,
   "metadata": {},
   "outputs": [
    {
     "data": {
      "text/plain": [
       "array([  8014, 164873,  91065,  26714,  26719, 124394, 165359,  26728,\n",
       "       124416, 124420], dtype=int64)"
      ]
     },
     "execution_count": 30,
     "metadata": {},
     "output_type": "execute_result"
    }
   ],
   "source": [
    "#Take the top 10 recommendations by weighted estimate rating\n",
    "top_recommendations = genre_df.sort_values(by = \"predicted_average\", ascending=False)[\"movieId\"][0:10].values\n",
    "top_recommendations"
   ]
  },
  {
   "cell_type": "code",
   "execution_count": 31,
   "metadata": {},
   "outputs": [
    {
     "name": "stdout",
     "output_type": "stream",
     "text": [
      "We would also recommend that you check out:\n",
      "Spring, Summer, Fall, Winter... and Spring (Bom yeoreum gaeul gyeoul geurigo bom) (2003)\n",
      "Little Crumb (1999)\n",
      "Bluebeard (Landru) (1963)\n",
      "Across the Tracks (1991)\n",
      "Cadence (1990)\n",
      "If Winter Comes (1947)\n",
      "Terror - Ihr Urteil (2016)\n",
      "Guilty by Suspicion (1991)\n",
      "I, a Man (1967)\n",
      "Women in Revolt (1971)\n"
     ]
    }
   ],
   "source": [
    "print(\"We would also recommend that you check out:\")\n",
    "for i in range(0,10):\n",
    "    print(movie_df.loc[movie_df[\"movieId\"]==top_recommendations[i], \"title\"].values[0])"
   ]
  },
  {
   "cell_type": "markdown",
   "metadata": {},
   "source": [
    "# Movie Recommendation Attempt 2 (Improved)"
   ]
  },
  {
   "cell_type": "code",
   "execution_count": 14,
   "metadata": {},
   "outputs": [],
   "source": [
    "#Secondary method fo rcalculating movie recommendations: Best movies by ratings of others in cluster\n",
    "ratings = pd.read_csv(\"Resources/ratings_updated.csv\")"
   ]
  },
  {
   "cell_type": "code",
   "execution_count": 15,
   "metadata": {},
   "outputs": [],
   "source": [
    "#Limit DataFrame to other cluster members and calculate average rating by movie\n",
    "user_cluster = ratings.loc[ratings[\"cluster\"]==cluster]\n",
    "movie_means = user_cluster.groupby(\"movieId\").mean()"
   ]
  },
  {
   "cell_type": "code",
   "execution_count": 19,
   "metadata": {},
   "outputs": [
    {
     "data": {
      "text/plain": [
       "Index([5489, 100714, 2356, 2357, 2362, 96832, 956, 2889, 99437, 99917], dtype='int64', name='movieId')"
      ]
     },
     "execution_count": 19,
     "metadata": {},
     "output_type": "execute_result"
    }
   ],
   "source": [
    "#Take the top 10 recommendations by weighted estimate rating\n",
    "top_recommendations = movie_means.sort_values(by = \"rating\", ascending=False).index[0:10]\n",
    "top_recommendations"
   ]
  },
  {
   "cell_type": "code",
   "execution_count": 20,
   "metadata": {},
   "outputs": [
    {
     "name": "stdout",
     "output_type": "stream",
     "text": [
      "We would also recommend that you check out:\n",
      "Nosferatu the Vampyre (Nosferatu: Phantom der Nacht) (1979)\n",
      "Before Midnight (2013)\n",
      "Celebrity (1998)\n",
      "Central Station (Central do Brasil) (1998)\n",
      "Glen or Glenda (1953)\n",
      "Holy Motors (2012)\n",
      "Penny Serenade (1941)\n",
      "Mystery, Alaska (1999)\n",
      "John Dies at the End (2012)\n",
      "Upstream Color (2013)\n"
     ]
    }
   ],
   "source": [
    "print(\"We would also recommend that you check out:\")\n",
    "for i in range(0,10):\n",
    "    print(movie_df.loc[movie_df[\"movieId\"]==top_recommendations[i], \"title\"].values[0])"
   ]
  }
 ],
 "metadata": {
  "kernelspec": {
   "display_name": "dev",
   "language": "python",
   "name": "python3"
  },
  "language_info": {
   "codemirror_mode": {
    "name": "ipython",
    "version": 3
   },
   "file_extension": ".py",
   "mimetype": "text/x-python",
   "name": "python",
   "nbconvert_exporter": "python",
   "pygments_lexer": "ipython3",
   "version": "3.11.5"
  }
 },
 "nbformat": 4,
 "nbformat_minor": 2
}
